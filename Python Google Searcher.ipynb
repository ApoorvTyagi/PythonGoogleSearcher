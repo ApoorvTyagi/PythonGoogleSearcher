{
 "cells": [
  {
   "cell_type": "code",
   "execution_count": 30,
   "metadata": {},
   "outputs": [],
   "source": [
    "#importing required libraries\n",
    "from tkinter import *\n",
    "import requests,sys,webbrowser,bs4 \n",
    "\n",
    "#Search Function\n",
    "def search():\n",
    "   str1=key.get() \n",
    "   res=requests.get('https://google.com/search?q='+''.join(str1))#search content\n",
    "   res.raise_for_status() #raise an excetion if request is unsuccessfull\n",
    "   soup=bs4.BeautifulSoup(res.text,\"html.parser\")\n",
    "   linkElements=soup.select('.r a') # extract all links from google search results\n",
    "   linkToOpen=min(5,len(linkElements))#number of webpages you want to open\n",
    "   for i in range(linkToOpen):\n",
    "       webbrowser.open('https://google.com'+linkElements[i].get('href')) #opening pages in web browser\n",
    " \n",
    "\n",
    "#GUI PART\n",
    "window = Tk() \n",
    " \n",
    "#Window    \n",
    "window.title(\"Pyhton Searcher\")\n",
    "window.geometry('400x100')\n",
    "window.configure(background=\"#a1dbcd\")         \n",
    "\n",
    "#Label \n",
    "msgLabel= Label(window, text=\"Enter Keyword: \", font=(\"Serif\", 16), bg=\"#a1dbcd\")\n",
    "msgLabel.grid(column=1,row=2) \n",
    "\n",
    "key=StringVar() \n",
    " \n",
    "#Input Entry    \n",
    "input_msg = Entry(window,textvariable = key, width=20, font=(\"Serif\", 12))\n",
    "input_msg.grid(column=2, row=2)\n",
    "input_msg.focus()  \n",
    "\n",
    "#Open Button\n",
    "finalStr = Button(window, text=\"Open\", font=(\"Serif\", 16),command = search) \n",
    "finalStr.grid(column=2, row=27)  \n",
    "\n",
    " \n",
    "window.mainloop()  "
   ]
  },
  {
   "cell_type": "code",
   "execution_count": null,
   "metadata": {},
   "outputs": [],
   "source": []
  },
  {
   "cell_type": "code",
   "execution_count": null,
   "metadata": {},
   "outputs": [],
   "source": []
  }
 ],
 "metadata": {
  "kernelspec": {
   "display_name": "Python 3",
   "language": "python",
   "name": "python3"
  },
  "language_info": {
   "codemirror_mode": {
    "name": "ipython",
    "version": 3
   },
   "file_extension": ".py",
   "mimetype": "text/x-python",
   "name": "python",
   "nbconvert_exporter": "python",
   "pygments_lexer": "ipython3",
   "version": "3.7.0"
  }
 },
 "nbformat": 4,
 "nbformat_minor": 2
}
